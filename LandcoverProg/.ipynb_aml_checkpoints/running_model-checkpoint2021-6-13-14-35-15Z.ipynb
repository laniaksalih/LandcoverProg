{
  "cells": [
    {
      "cell_type": "code",
      "source": [
        "%matplotlib inline\n",
        "import matplotlib\n",
        "import matplotlib.pyplot as plt\n",
        "from joblib import dump, load\n",
        "import azureml.core\n",
        "from azureml.core import Experiment, Workspace, Dataset, Datastore, ScriptRunConfig\n",
        "from azure.storage.fileshare import ShareFileClient\n",
        "from os.path import join\n",
        "import matplotlib\n",
        "import matplotlib.pyplot as plt\n",
        "import glob\n",
        "import fiona\n",
        "import shapely\n",
        "import gdal\n",
        "import osr\n",
        "import sys\n",
        "\n",
        "sys.path.append('/home/azureuser/cloudfiles/code/Users/LSalih/landcover_prog')\n",
        "import numpy as np\n",
        "import os\n",
        "from os import path as op\n",
        "import rasterio\n",
        "from DataLoader import DataLoaderCustom, InMemoryRaster, warp_data_to_3857, crop_data_by_geometry\n",
        "from Utils import setup_logging, get_random_string, class_prediction_to_img\n",
        "from ModelSessionKerasExample import KerasDenseFineTune\n",
        "from Models import _load_model, load_models\n",
        "from Datasets import load_datasets\n",
        "import numpy\n",
        "import tensorflow as tf\n",
        "from tensorflow import keras\n",
        "import sklearn\n",
        "import json\n",
        "import cv2\n",
        "\n",
        "from ModelSessionAbstract import ModelSession\n"
      ],
      "outputs": [],
      "execution_count": 18,
      "metadata": {
        "gather": {
          "logged": 1626186794157
        }
      },
      "id": "1d4472ee"
    },
    {
      "cell_type": "code",
      "source": [
        "\n",
        "# load workspace configuration from the config.json file in the current folder.\n",
        "ws = Workspace.from_config()\n",
        "    \n",
        "\n",
        "# get metadata about the workspace\n",
        "print(ws.name, ws.location, ws.resource_group, sep='\\t')\n",
        "# list the registered datastores\n",
        "print(ws.datastores)"
      ],
      "outputs": [
        {
          "output_type": "stream",
          "name": "stdout",
          "text": [
            "change-detection\teastus2\tplace\n",
            "{'place': {\n",
            "  \"name\": \"place\",\n",
            "  \"container_name\": \"landcover-ai\",\n",
            "  \"account_name\": \"changedetectio8527471924\",\n",
            "  \"protocol\": \"https\",\n",
            "  \"endpoint\": \"core.windows.net\"\n",
            "}, 'cddatafilestore': {\n",
            "  \"name\": \"cddatafilestore\",\n",
            "  \"container_name\": \"my-share\",\n",
            "  \"account_name\": \"changedetectio8527471924\",\n",
            "  \"protocol\": \"https\",\n",
            "  \"endpoint\": \"core.windows.net\"\n",
            "}, 'azureml_globaldatasets': {\n",
            "  \"name\": \"azureml_globaldatasets\",\n",
            "  \"container_name\": \"globaldatasets\",\n",
            "  \"account_name\": \"mmstorageeastus2\",\n",
            "  \"protocol\": \"https\",\n",
            "  \"endpoint\": \"core.windows.net\"\n",
            "}, 'workspacefilestore': {\n",
            "  \"name\": \"workspacefilestore\",\n",
            "  \"container_name\": \"azureml-filestore-06b1acca-db8a-4803-b66e-c72b2b4f0327\",\n",
            "  \"account_name\": \"changedetectio8527471924\",\n",
            "  \"protocol\": \"https\",\n",
            "  \"endpoint\": \"core.windows.net\"\n",
            "}, 'workspaceblobstore': {\n",
            "  \"name\": \"workspaceblobstore\",\n",
            "  \"container_name\": \"azureml-blobstore-06b1acca-db8a-4803-b66e-c72b2b4f0327\",\n",
            "  \"account_name\": \"changedetectio8527471924\",\n",
            "  \"protocol\": \"https\",\n",
            "  \"endpoint\": \"core.windows.net\"\n",
            "}}\n"
          ]
        }
      ],
      "execution_count": 19,
      "metadata": {
        "collapsed": true,
        "jupyter": {
          "source_hidden": false,
          "outputs_hidden": false
        },
        "nteract": {
          "transient": {
            "deleting": false
          }
        },
        "gather": {
          "logged": 1626186798694
        }
      },
      "id": "476385df-e0f9-49de-84ce-8ee1c74df6a3"
    },
    {
      "cell_type": "code",
      "source": [
        "# register our data share containing image data\n",
        "Datastore.register_azure_file_share(\n",
        "    account_key = 'Dku+0TqE3wzDk0vpS72stllllxRpWbSqK0qjDblVX3pSha2Qhiq2/E8wW15KcuSThZ24WGmttkSNjgIGdkBzDA==',\n",
        "    workspace = ws,\n",
        "    datastore_name = 'place',\n",
        "    file_share_name = 'landcover-ai',\n",
        "    account_name = 'changedetectio8527471924')"
      ],
      "outputs": [
        {
          "output_type": "execute_result",
          "execution_count": 20,
          "data": {
            "text/plain": "{\n  \"name\": \"place\",\n  \"container_name\": \"landcover-ai\",\n  \"account_name\": \"changedetectio8527471924\",\n  \"protocol\": \"https\",\n  \"endpoint\": \"core.windows.net\"\n}"
          },
          "metadata": {}
        }
      ],
      "execution_count": 20,
      "metadata": {
        "collapsed": true,
        "jupyter": {
          "source_hidden": false,
          "outputs_hidden": false
        },
        "nteract": {
          "transient": {
            "deleting": false
          }
        },
        "gather": {
          "logged": 1626186801634
        }
      },
      "id": "8449f92d-bcd7-4aea-ae97-591f16ce0f04"
    },
    {
      "cell_type": "code",
      "source": [
        "# access the datashare with model checkpoint and imagery\n",
        "datastore = Datastore.get(workspace = ws, datastore_name = 'place')\n",
        "\n",
        "#\n",
        "travis_path = (datastore, 'travis_test/')\n",
        "mecklenburg_path = (datastore, 'mecklenburg_county/')"
      ],
      "outputs": [],
      "execution_count": 21,
      "metadata": {
        "collapsed": true,
        "jupyter": {
          "source_hidden": false,
          "outputs_hidden": false
        },
        "nteract": {
          "transient": {
            "deleting": false
          }
        },
        "gather": {
          "logged": 1626186801770
        }
      },
      "id": "e1a18d74-7059-4b34-bb29-8ab2f42650be"
    },
    {
      "cell_type": "code",
      "source": [
        "travis_county = Dataset.File.from_files(path = [travis_path])\n",
        "mecklenburg_county = Dataset.File.from_files(path = [mecklenburg_path])"
      ],
      "outputs": [],
      "execution_count": 22,
      "metadata": {
        "collapsed": true,
        "jupyter": {
          "source_hidden": false,
          "outputs_hidden": false
        },
        "nteract": {
          "transient": {
            "deleting": false
          }
        },
        "gather": {
          "logged": 1626186802550
        }
      },
      "id": "1e0a6482-4003-4e6a-9a7c-ef44a076a232"
    },
    {
      "cell_type": "code",
      "source": [
        "test_mount = travis_county.mount()\n",
        "mecklenburg_mount = mecklenburg_county.mount()"
      ],
      "outputs": [],
      "execution_count": 23,
      "metadata": {
        "collapsed": true,
        "jupyter": {
          "source_hidden": false,
          "outputs_hidden": false
        },
        "nteract": {
          "transient": {
            "deleting": false
          }
        },
        "gather": {
          "logged": 1626186802906
        }
      },
      "id": "417d2050-e105-402b-be83-73e88b3634ac"
    },
    {
      "cell_type": "code",
      "source": [
        "test_mount.start()\n",
        "mecklenburg_mount.start()"
      ],
      "outputs": [],
      "execution_count": 24,
      "metadata": {
        "collapsed": true,
        "jupyter": {
          "source_hidden": false,
          "outputs_hidden": false
        },
        "nteract": {
          "transient": {
            "deleting": false
          }
        },
        "gather": {
          "logged": 1626186813922
        }
      },
      "id": "22cc3e79-2666-4a3f-ba46-7480b60c183c"
    },
    {
      "cell_type": "code",
      "source": [
        "dataset_mount_folder = test_mount.mount_point\n"
      ],
      "outputs": [],
      "execution_count": 25,
      "metadata": {
        "collapsed": true,
        "jupyter": {
          "source_hidden": false,
          "outputs_hidden": false
        },
        "nteract": {
          "transient": {
            "deleting": false
          }
        },
        "gather": {
          "logged": 1626186814043
        }
      },
      "id": "0861864c-911f-4ade-8bb3-970f75b88d25"
    },
    {
      "cell_type": "code",
      "source": [
        "test_files = []\n",
        "for root, dirs, files in os.walk(dataset_mount_folder):\n",
        "    for f in files:\n",
        "        test_files.append(join(root, f))\n",
        "\n",
        "print(test_files)"
      ],
      "outputs": [
        {
          "output_type": "stream",
          "name": "stdout",
          "text": [
            "['/tmp/tmppu8rnc7v/travis_2016_UL-0000000000-0000000000.tif', '/tmp/tmppu8rnc7v/travis_2016_UL-0000000000-0000011776.tif']\n"
          ]
        }
      ],
      "execution_count": 26,
      "metadata": {
        "collapsed": true,
        "jupyter": {
          "source_hidden": false,
          "outputs_hidden": false
        },
        "nteract": {
          "transient": {
            "deleting": false
          }
        },
        "gather": {
          "logged": 1626186814295
        }
      },
      "id": "070ddaa0-ff20-481e-8e29-317eb4017250"
    },
    {
      "cell_type": "code",
      "source": [
        "geom_t2016_UL = {\n",
        "  \"type\": \"Polygon\",\n",
        "  \"coordinates\": [[[-98.93314412259393,30.542412676693445],[-98.86447957181268,30.542412676693445],[-98.86447957181268,30.601532227903597],[-98.93314412259393,30.601532227903597],[-98.93314412259393,30.542412676693445]]]\n",
        "}\n",
        "\n"
      ],
      "outputs": [],
      "execution_count": 27,
      "metadata": {
        "collapsed": true,
        "jupyter": {
          "source_hidden": false,
          "outputs_hidden": false
        },
        "nteract": {
          "transient": {
            "deleting": false
          }
        },
        "gather": {
          "logged": 1626186832991
        }
      },
      "id": "bf5e491d-40bf-404f-b3a6-1ce72d8430ef"
    },
    {
      "cell_type": "code",
      "source": [
        "def get_data_from_geometry(image_path, geometry):\n",
        "    #TODO: Figure out what happens if we call this with a geometry that doesn't intersect the data source.\n",
        "    f = rasterio.open(image_path, \"r\")\n",
        "    src_profile = f.profile\n",
        "    src_crs = f.crs.to_string()\n",
        "    transformed_mask_geom = fiona.transform.transform_geom(\"epsg:4326\", src_crs, geometry)\n",
        "    src_image, src_transform = rasterio.mask.mask(f, [transformed_mask_geom], crop=True, all_touched=True, pad=False)\n",
        "    f.close()\n",
        "    print(src_image.shape)\n",
        "    src_image = np.rollaxis(src_image, 0, 3)\n",
        "    print(src_image.shape)\n",
        "    return InMemoryRaster(src_image, src_crs, src_transform, shapely.geometry.shape(transformed_mask_geom).bounds)\n"
      ],
      "outputs": [],
      "execution_count": 28,
      "metadata": {
        "collapsed": true,
        "jupyter": {
          "source_hidden": false,
          "outputs_hidden": false
        },
        "nteract": {
          "transient": {
            "deleting": false
          }
        },
        "gather": {
          "logged": 1626186834075
        }
      },
      "id": "3dc29706-e168-42ab-8442-1bdc79a809b4"
    },
    {
      "cell_type": "code",
      "source": [
        "input_raster = get_data_from_geometry(test_files[0], geom_t2016_UL)\n"
      ],
      "outputs": [
        {
          "output_type": "stream",
          "name": "stdout",
          "text": [
            "Downloaded path: /tmp/tmpfvnobta_/7857cf6b-18e8-494b-aa08-fbf5c291198f/travis_test/travis_2016_UL-0000000000-0000000000.tif is different from target path: /tmp/tmpfvnobta_/7857cf6b-18e8-494b-aa08-fbf5c291198f/travis_2016_UL-0000000000-0000000000.tif\n",
            "(4, 765, 765)\n",
            "(765, 765, 4)\n"
          ]
        }
      ],
      "execution_count": 29,
      "metadata": {
        "collapsed": true,
        "jupyter": {
          "source_hidden": false,
          "outputs_hidden": false
        },
        "nteract": {
          "transient": {
            "deleting": false
          }
        },
        "gather": {
          "logged": 1626186838962
        }
      },
      "id": "3e9756fb-194e-4cec-a04b-6ac0a0ba5557"
    },
    {
      "cell_type": "code",
      "source": [
        "def pred_tile(input_raster):\n",
        "    test = KerasDenseFineTune()\n",
        "    output = test.run(input_raster.data, True)\n",
        "    assert input_raster.shape[0] == output.shape[0] and input_raster.shape[1] == output.shape[1], \"ModelSession must return an np.ndarray with the same height and width as the input\"\n",
        "\n",
        "    return InMemoryRaster(output, input_raster.crs, input_raster.transform, input_raster.bounds)\n"
      ],
      "outputs": [],
      "execution_count": 30,
      "metadata": {
        "collapsed": true,
        "jupyter": {
          "source_hidden": false,
          "outputs_hidden": false
        },
        "nteract": {
          "transient": {
            "deleting": false
          }
        },
        "gather": {
          "logged": 1626186839113
        }
      },
      "id": "479dec60-4150-4d97-bdb1-891abb58bc32"
    },
    {
      "cell_type": "code",
      "source": [
        "output_raster = pred_tile(input_raster)"
      ],
      "outputs": [],
      "execution_count": 31,
      "metadata": {
        "collapsed": true,
        "jupyter": {
          "source_hidden": false,
          "outputs_hidden": false
        },
        "nteract": {
          "transient": {
            "deleting": false
          }
        },
        "gather": {
          "logged": 1626186855739
        }
      },
      "id": "0e07de08-adc0-4484-8337-b1aa8b3ab7ae"
    },
    {
      "cell_type": "code",
      "source": [
        "output_raster.shape"
      ],
      "outputs": [
        {
          "output_type": "execute_result",
          "execution_count": 17,
          "data": {
            "text/plain": "(765, 765, 4)"
          },
          "metadata": {}
        }
      ],
      "execution_count": 17,
      "metadata": {
        "collapsed": true,
        "jupyter": {
          "source_hidden": false,
          "outputs_hidden": false
        },
        "nteract": {
          "transient": {
            "deleting": false
          }
        },
        "gather": {
          "logged": 1626186083232
        }
      },
      "id": "719b682f-8a9b-4b15-9808-329b0832270a"
    },
    {
      "cell_type": "code",
      "source": [
        "def load_classes_json():\n",
        "    classes = json.load(open( \"classes.json\",\"r\"))\n",
        "    return classes\n",
        "\n",
        "classes_json = load_classes_json()\n",
        "\n",
        "class_list = []\n",
        "color_list = []\n",
        "\n",
        "for i in range(len(classes_json)):\n",
        "    class_list.append(classes_json[i]['name'])\n",
        "\n",
        "for i in range(len(classes_json)):\n",
        "    color_list.append(classes_json[i]['color'])\n",
        "\n"
      ],
      "outputs": [],
      "execution_count": 15,
      "metadata": {
        "collapsed": true,
        "jupyter": {
          "source_hidden": false,
          "outputs_hidden": false
        },
        "nteract": {
          "transient": {
            "deleting": false
          }
        },
        "gather": {
          "logged": 1626186061460
        }
      },
      "id": "c2925cb4-3fac-4739-9ce7-9277c40a5915"
    },
    {
      "cell_type": "code",
      "source": [
        "# Everything below here is from landcover's server.py document\n",
        "# returning the index with the maximum value in respect to both axes \n",
        "output_hard = output_raster.data.argmax(axis=2)\n",
        "nodata_mask = np.sum(input_raster.data == 0, axis=2) == input_raster.shape[2]\n",
        "output_hard[nodata_mask] = 255\n",
        "class_vals, class_counts = np.unique(output_hard[~nodata_mask], return_counts=True)\n",
        "img_hard = class_prediction_to_img(output_raster.data, True, color_list)\n",
        "img_hard = cv2.cvtColor(img_hard, cv2.COLOR_RGB2BGRA)\n",
        "img_hard[nodata_mask] = [0,0,0,0]\n",
        "output_raster.data = img_hard\n",
        "output_raster.shape = img_hard.shape\n",
        "warped_output_raster = warp_data_to_3857(output_raster) # warp output to 3857\n",
        "cropped_warped_output_raster = crop_data_by_geometry(warped_output_raster, geom_t2016_UL, \"epsg:4326\") # crop to the desired shape\n",
        "img_hard = cropped_warped_output_raster.data\n"
      ],
      "outputs": [],
      "execution_count": 32,
      "metadata": {
        "collapsed": true,
        "jupyter": {
          "source_hidden": false,
          "outputs_hidden": false
        },
        "nteract": {
          "transient": {
            "deleting": false
          }
        },
        "gather": {
          "logged": 1626186860843
        }
      },
      "id": "4c49035e-ec50-4b01-84ed-a86fd53ea17a"
    },
    {
      "cell_type": "code",
      "source": [
        "output_hard.shape"
      ],
      "outputs": [],
      "execution_count": null,
      "metadata": {
        "collapsed": true,
        "jupyter": {
          "source_hidden": false,
          "outputs_hidden": false
        },
        "nteract": {
          "transient": {
            "deleting": false
          }
        },
        "gather": {
          "logged": 1626121242798
        }
      },
      "id": "12fb5438-14e7-4dcb-b90a-52d4a3c47aff"
    },
    {
      "cell_type": "code",
      "source": [
        "tmp_id = get_random_string(8)\n",
        "new_profile = {}\n",
        "new_profile['driver'] = 'GTiff'\n",
        "new_profile['dtype'] = 'uint8'\n",
        "new_profile['compress'] = \"lzw\"\n",
        "new_profile['count'] = 1\n",
        "new_profile['transform'] = output_raster.transform\n",
        "new_profile['height'] = output_hard.shape[0] \n",
        "new_profile['width'] = output_hard.shape[1]\n",
        "new_profile['crs'] = output_raster.crs\n",
        "with rasterio.open(\"t%s.tif\" % (tmp_id), 'w', **new_profile) as f:\n",
        "    f.write(output_hard.astype(np.uint8), 1)\n",
        "\n",
        "\n",
        "print(output_hard)\n"
      ],
      "outputs": [
        {
          "output_type": "stream",
          "name": "stdout",
          "text": [
            "[[1 1 1 ... 1 1 1]\n",
            " [1 3 3 ... 3 2 1]\n",
            " [1 3 3 ... 3 3 1]\n",
            " ...\n",
            " [1 2 3 ... 3 3 1]\n",
            " [1 2 3 ... 3 3 1]\n",
            " [1 1 1 ... 1 1 1]]\n"
          ]
        }
      ],
      "execution_count": 33,
      "metadata": {
        "collapsed": true,
        "jupyter": {
          "source_hidden": false,
          "outputs_hidden": false
        },
        "nteract": {
          "transient": {
            "deleting": false
          }
        },
        "gather": {
          "logged": 1626186871246
        }
      },
      "id": "c7e41435-df96-472e-a488-f5eab1c8db0f"
    },
    {
      "cell_type": "code",
      "source": [
        "from rasterio.plot import show\n",
        "img = rasterio.open('tffcyehvu.tif')\n",
        "show(img, 'r')"
      ],
      "outputs": [],
      "execution_count": null,
      "metadata": {
        "collapsed": true,
        "jupyter": {
          "source_hidden": false,
          "outputs_hidden": false
        },
        "nteract": {
          "transient": {
            "deleting": false
          }
        },
        "gather": {
          "logged": 1626121738976
        }
      },
      "id": "05e4d36d-815e-4f96-8cf7-10bd1b9eb32b"
    }
  ],
  "metadata": {
    "kernelspec": {
      "name": "landcover_jupyterlab",
      "language": "python",
      "display_name": "landcover_jupyterlab"
    },
    "language_info": {
      "name": "python",
      "version": "3.7.6",
      "mimetype": "text/x-python",
      "codemirror_mode": {
        "name": "ipython",
        "version": 3
      },
      "pygments_lexer": "ipython3",
      "nbconvert_exporter": "python",
      "file_extension": ".py"
    },
    "kernel_info": {
      "name": "landcover_jupyterlab"
    },
    "nteract": {
      "version": "nteract-front-end@1.0.0"
    },
    "microsoft": {
      "host": {
        "AzureML": {
          "notebookHasBeenCompleted": true
        }
      }
    }
  },
  "nbformat": 4,
  "nbformat_minor": 5
}